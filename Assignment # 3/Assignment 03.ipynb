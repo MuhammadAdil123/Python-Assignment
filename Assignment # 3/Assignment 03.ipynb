{
 "cells": [
  {
   "cell_type": "code",
   "execution_count": 1,
   "id": "fb5cf6ba",
   "metadata": {},
   "outputs": [
    {
     "name": "stdout",
     "output_type": "stream",
     "text": [
      "Twinkle, twinkle, little star,\n",
      "\t\tHow I wonder what you are!\n",
      "\t\t\t\tUp above the world so high,\n",
      "\t\t\t\tLike a diamond in the sky.\n",
      "Twinkle, twinkle, little star,\n",
      "\t\tHow I wonder what you are\n"
     ]
    }
   ],
   "source": [
    "#(1)Write a Python program to print the following string in a specific format (see the\n",
    "#output).\n",
    "\n",
    "#Twinkle, twinkle, little star,\n",
    "#How I wonder what you are!\n",
    "#Up above the world so high,\n",
    "#Like a diamond in the sky.\n",
    "\n",
    "#Twinkle, twinkle, little star,\n",
    "#How I wonder what you are\n",
    "print(\"Twinkle, twinkle, little star,\\n\\t\\tHow I wonder what you are!\\n\\t\\t\\t\\tUp above the world so high,\\n\\t\\t\\t\\tLike a diamond in the sky.\\nTwinkle, twinkle, little star,\\n\\t\\tHow I wonder what you are\");"
   ]
  },
  {
   "cell_type": "code",
   "execution_count": 2,
   "id": "6624a004",
   "metadata": {},
   "outputs": [
    {
     "name": "stdout",
     "output_type": "stream",
     "text": [
      "3.8.8 (default, Apr 13 2021, 15:08:03) [MSC v.1916 64 bit (AMD64)]\n"
     ]
    }
   ],
   "source": [
    "#(2)Write a Python program to get the Python version you are using\n",
    "import sys\n",
    "print(sys.version)"
   ]
  },
  {
   "cell_type": "code",
   "execution_count": 3,
   "id": "115cc9d6",
   "metadata": {},
   "outputs": [
    {
     "name": "stdout",
     "output_type": "stream",
     "text": [
      "now = 2021-10-23 01:23:20.625868\n",
      "date and time = 23/10/2021 01:23:20\n"
     ]
    }
   ],
   "source": [
    "#(3)Write a Python program to display the current date and time.\n",
    "from datetime import datetime\n",
    "\n",
    "# datetime object containing current date and time\n",
    "now = datetime.now()\n",
    " \n",
    "print(\"now =\", now)\n",
    "\n",
    "# dd/mm/YY H:M:S\n",
    "dt_string = now.strftime(\"%d/%m/%Y %H:%M:%S\")\n",
    "print(\"date and time =\", dt_string)"
   ]
  },
  {
   "cell_type": "code",
   "execution_count": 4,
   "id": "45dafac0",
   "metadata": {},
   "outputs": [
    {
     "name": "stdout",
     "output_type": "stream",
     "text": [
      "Input the radius of the circle : 65\n",
      "The area of the circle with radius 65.0 is: 13273.228961416877\n"
     ]
    }
   ],
   "source": [
    "#(4)Write a Python program which accepts the radius of a circle from the user and compute\n",
    "#the area.\n",
    "from math import pi\n",
    "r = float(input (\"Input the radius of the circle : \"))\n",
    "print (\"The area of the circle with radius \" + str(r) + \" is: \" + str(pi * r**2))"
   ]
  },
  {
   "cell_type": "code",
   "execution_count": 5,
   "id": "0f31d661",
   "metadata": {},
   "outputs": [
    {
     "name": "stdout",
     "output_type": "stream",
     "text": [
      "enter the first nameMuhammad\n",
      "enter the last nameAdil\n",
      "Adil Muhammad\n"
     ]
    }
   ],
   "source": [
    "#(5)Write a Python program which accepts the user's first and last name and print them in\n",
    "#reverse order with a space between them.\n",
    "first=input(\"enter the first name\");\n",
    "last=input(\"enter the last name\");\n",
    "print(last+\" \"+first);"
   ]
  },
  {
   "cell_type": "code",
   "execution_count": 6,
   "id": "dcd38bd6",
   "metadata": {},
   "outputs": [
    {
     "name": "stdout",
     "output_type": "stream",
     "text": [
      "enter the number one6\n",
      "enter the number two8\n",
      "the addition of two number is 14\n"
     ]
    }
   ],
   "source": [
    "#(6)Write a python program which takes two inputs from user and print them addition\n",
    "num1=int(input(\"enter the number one\"));\n",
    "num2=int(input(\"enter the number two\"));\n",
    "print(\"the addition of two number is\",num1+num2);"
   ]
  },
  {
   "cell_type": "code",
   "execution_count": 7,
   "id": "3788e0a8",
   "metadata": {},
   "outputs": [
    {
     "name": "stdout",
     "output_type": "stream",
     "text": [
      "79.80000000000001\n",
      "Grade A\n"
     ]
    }
   ],
   "source": [
    "#(7)Write a program which takes 5 inputs from user for different subject’s marks, total it\n",
    "#and generate mark sheet using grades ?\n",
    "english=64;\n",
    "islamiat=67;\n",
    "maths=94;\n",
    "biology=96;\n",
    "chemistry=78;\n",
    "marks_obtained=english+islamiat+maths+biology+chemistry;\n",
    "total_marks=500;\n",
    "percentage: float=(marks_obtained/total_marks)*100;\n",
    "print(percentage);\n",
    "if percentage>100.0 or percentage<0.0:\n",
    "    print(\"the input should be between 0 to 100\");\n",
    "elif percentage<=100.0 and percentage>=80.0:\n",
    "    print(\"Grade A.ONE\");\n",
    "elif percentage <= 80.0 and percentage >= 70.0:\n",
    "    print(\"Grade A\");\n",
    "elif percentage <= 70.0 and percentage >= 60.0:\n",
    "    print(\"Grade B\");\n",
    "elif percentage <= 60.0 and percentage >= 50.0:\n",
    "    print(\"Grade C\");\n",
    "elif percentage <= 50.0 and percentage >= 40.0:\n",
    "    print(\"Grade D\");\n",
    "elif percentage <= 40.0 and percentage >= 33.0:\n",
    "    print(\"Grade E\");\n",
    "else:\n",
    "    print(\"you are fail\");"
   ]
  },
  {
   "cell_type": "code",
   "execution_count": 8,
   "id": "9f8cf66a",
   "metadata": {},
   "outputs": [
    {
     "name": "stdout",
     "output_type": "stream",
     "text": [
      "enter the number7\n",
      "the numberr is odd\n"
     ]
    }
   ],
   "source": [
    "#(8)Write a program which take input from user and identify that the given number is even\n",
    "#or odd?\n",
    "num=int(input(\"enter the number\"));\n",
    "mod=num%2;\n",
    "if mod>0:\n",
    "    print(\"the numberr is odd\");\n",
    "else:\n",
    "    print(\"the number is even\");"
   ]
  },
  {
   "cell_type": "code",
   "execution_count": 9,
   "id": "0cc565a1",
   "metadata": {},
   "outputs": [
    {
     "name": "stdout",
     "output_type": "stream",
     "text": [
      "6\n"
     ]
    }
   ],
   "source": [
    "#(9)Write a program which print the length of the list?\n",
    "list=[2,3,4,5,89,45]\n",
    "print(len(list));"
   ]
  },
  {
   "cell_type": "code",
   "execution_count": 11,
   "id": "d2992075",
   "metadata": {},
   "outputs": [
    {
     "name": "stdout",
     "output_type": "stream",
     "text": [
      "148\n"
     ]
    }
   ],
   "source": [
    "#(10)Write a Python program to sum all the numeric items in a list?\n",
    "list=[2,3,4,5,89,45]\n",
    "print(sum(list));"
   ]
  },
  {
   "cell_type": "code",
   "execution_count": 12,
   "id": "50e1ac34",
   "metadata": {},
   "outputs": [
    {
     "name": "stdout",
     "output_type": "stream",
     "text": [
      "89\n"
     ]
    }
   ],
   "source": [
    "#(11)Write a Python program to get the largest number from a numeric list.\n",
    "list=[2,3,4,5,89,45]\n",
    "print(max(list));"
   ]
  },
  {
   "cell_type": "code",
   "execution_count": 13,
   "id": "645a00f4",
   "metadata": {},
   "outputs": [
    {
     "name": "stdout",
     "output_type": "stream",
     "text": [
      "1\n",
      "1\n",
      "2\n",
      "3\n"
     ]
    }
   ],
   "source": [
    "#(12)Take a list, say for example this one:\n",
    "#a = [1, 1, 2, 3, 5, 8, 13, 21, 34, 55, 89]\n",
    "#Write a program that prints out all the elements of the list that are less than 5.\n",
    "a = [1, 1, 2, 3, 5, 8, 13, 21, 34, 55, 89]\n",
    "\n",
    "for i in a:\n",
    "\n",
    "    if i < 5:\n",
    "\n",
    "        print(i)"
   ]
  },
  {
   "cell_type": "code",
   "execution_count": null,
   "id": "51868d72",
   "metadata": {},
   "outputs": [],
   "source": []
  }
 ],
 "metadata": {
  "kernelspec": {
   "display_name": "Python 3",
   "language": "python",
   "name": "python3"
  },
  "language_info": {
   "codemirror_mode": {
    "name": "ipython",
    "version": 3
   },
   "file_extension": ".py",
   "mimetype": "text/x-python",
   "name": "python",
   "nbconvert_exporter": "python",
   "pygments_lexer": "ipython3",
   "version": "3.8.8"
  }
 },
 "nbformat": 4,
 "nbformat_minor": 5
}
